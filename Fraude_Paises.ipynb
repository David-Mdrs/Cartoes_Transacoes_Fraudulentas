{
 "cells": [
  {
   "cell_type": "code",
   "execution_count": 1,
   "metadata": {},
   "outputs": [],
   "source": [
    "# Importando bibliotecas\n",
    "import pandas as pd\n",
    "import networkx as nx\n",
    "import matplotlib.pyplot as plt"
   ]
  },
  {
   "cell_type": "code",
   "execution_count": null,
   "metadata": {},
   "outputs": [],
   "source": [
    "# Inicializando dataset e visualizando itens\n",
    "df = pd.read_csv('credit_card_fraud_detection.csv')\n",
    "df.head()"
   ]
  },
  {
   "cell_type": "code",
   "execution_count": 10,
   "metadata": {},
   "outputs": [],
   "source": [
    "# Criando função auxiliar para desenhar grafos\n",
    "def criar_grafo(df, pais):\n",
    "    grafo = nx.Graph()\n",
    "    grafo.add_node(pais)\n",
    "\n",
    "    # Inserindo vértices e arestas\n",
    "    for i in range(len(df)):\n",
    "        if df.iloc[i]['Country'] == pais:\n",
    "            user_id = df.iloc[i]['User ID']\n",
    "            transaction_amount = df.iloc[i]['Transaction Amount']\n",
    "            grafo.add_node(user_id)\n",
    "            grafo.add_edge(user_id, pais, weight=transaction_amount)\n",
    "\n",
    "    # Retornando grafo\n",
    "    return grafo"
   ]
  },
  {
   "cell_type": "code",
   "execution_count": 12,
   "metadata": {},
   "outputs": [],
   "source": [
    "# Filtrando por dados fraudulentos e selecionando países\n",
    "df_fraudulento = df[df['Fraudulent'] == 'Yes']\n",
    "paises = df_fraudulento['Country'].unique()"
   ]
  },
  {
   "cell_type": "code",
   "execution_count": null,
   "metadata": {},
   "outputs": [],
   "source": [
    "# Visualizando grafos\n",
    "for pais in paises:\n",
    "    grafo = criar_grafo(df_fraudulento, pais)\n",
    "    \n",
    "    # Dimensionando figura e ajustando cores\n",
    "    plt.figure(figsize = (8, 4))\n",
    "    cor = ['orange' if node == pais else 'teal' for node in grafo.nodes()]\n",
    "\n",
    "    # Dando nome e visualizando grafo\n",
    "    nx.draw(grafo, with_labels = True, node_color = cor, edge_color = \"gray\", font_size = 10, node_size = 500)\n",
    "    plt.title(f\"Fraudulent graphs in {pais}\")\n",
    "    plt.show()"
   ]
  },
  {
   "cell_type": "code",
   "execution_count": null,
   "metadata": {},
   "outputs": [],
   "source": [
    "# Armazenando grafos\n",
    "grafos = []\n",
    "for pais in paises:\n",
    "    grafos += [criar_grafo(df_fraudulento, pais)]\n",
    "    print(criar_grafo(df_fraudulento, pais))"
   ]
  },
  {
   "cell_type": "code",
   "execution_count": null,
   "metadata": {},
   "outputs": [],
   "source": [
    "# Quantidade de fraudes em cada país com base no grau\n",
    "for grafo in grafos:\n",
    "    print(grafo.degree(list(grafo.nodes())[0]))"
   ]
  },
  {
   "cell_type": "code",
   "execution_count": null,
   "metadata": {},
   "outputs": [],
   "source": [
    "# Valor total de fraudes em cada país somando o peso das arestas\n",
    "for grafo in grafos:\n",
    "    peso_total = sum(nx.get_edge_attributes(grafo, 'weight')[edge] for edge in grafo.edges(list(grafo.nodes)[0]))\n",
    "    print(f\"Peso total no(a) {list(grafo.nodes)[0]}: {peso_total:.2f}\")\n"
   ]
  }
 ],
 "metadata": {
  "kernelspec": {
   "display_name": "Python 3",
   "language": "python",
   "name": "python3"
  },
  "language_info": {
   "codemirror_mode": {
    "name": "ipython",
    "version": 3
   },
   "file_extension": ".py",
   "mimetype": "text/x-python",
   "name": "python",
   "nbconvert_exporter": "python",
   "pygments_lexer": "ipython3",
   "version": "3.11.9"
  }
 },
 "nbformat": 4,
 "nbformat_minor": 2
}
