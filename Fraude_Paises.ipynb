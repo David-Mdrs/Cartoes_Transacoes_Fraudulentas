{
 "cells": [
  {
   "cell_type": "code",
   "execution_count": 6,
   "metadata": {},
   "outputs": [],
   "source": [
    "# Importando bibliotecas\n",
    "import pandas as pd\n",
    "import networkx as nx\n",
    "import matplotlib.pyplot as plt"
   ]
  },
  {
   "cell_type": "code",
   "execution_count": null,
   "metadata": {},
   "outputs": [],
   "source": [
    "# Inicializando dataset e visualizando itens\n",
    "df = pd.read_csv('credit_card_fraud_detection.csv')\n",
    "df.head()"
   ]
  },
  {
   "cell_type": "code",
   "execution_count": 8,
   "metadata": {},
   "outputs": [],
   "source": [
    "# Criando função auxiliar para desenhar grafos\n",
    "def criar_grafo(df, pais):\n",
    "    grafo = nx.Graph()\n",
    "    grafo.add_node(pais)\n",
    "\n",
    "    # Inserindo vértices e arestas\n",
    "    for i in range(len(df)):\n",
    "        if df.iloc[i]['Country'] == pais:\n",
    "            user_id = df.iloc[i]['User ID']\n",
    "            transaction_amount = df.iloc[i]['Transaction Amount']\n",
    "            grafo.add_node(user_id)\n",
    "            grafo.add_edge(user_id, pais, weight=transaction_amount)\n",
    "\n",
    "    # Retornando grafo\n",
    "    return grafo"
   ]
  },
  {
   "cell_type": "code",
   "execution_count": 9,
   "metadata": {},
   "outputs": [],
   "source": [
    "# Filtrando por dados fraudulentos e selecionando países\n",
    "df_fraudulento = df[df['Fraudulent'] == 'Yes']\n",
    "paises = df_fraudulento['Country'].unique()"
   ]
  },
  {
   "cell_type": "code",
   "execution_count": null,
   "metadata": {},
   "outputs": [],
   "source": [
    "# Visualizando grafos\n",
    "for pais in paises:\n",
    "    grafo = criar_grafo(df_fraudulento, pais)\n",
    "    \n",
    "    # Dimensionando figura e ajustando cores\n",
    "    plt.figure(figsize = (8, 4))\n",
    "    cor = ['orange' if node == pais else 'teal' for node in grafo.nodes()]\n",
    "\n",
    "    # Dando nome e visualizando grafo\n",
    "    nx.draw(grafo, with_labels = True, node_color = cor, edge_color = \"gray\", font_size = 10, node_size = 500)\n",
    "    plt.title(f\"Fraudulent graphs in {pais}\")\n",
    "    plt.show()"
   ]
  },
  {
   "cell_type": "code",
   "execution_count": null,
   "metadata": {},
   "outputs": [],
   "source": [
    "# Armazenando grafos\n",
    "grafos = []\n",
    "for pais in paises:\n",
    "    grafos += [criar_grafo(df_fraudulento, pais)]\n",
    "    print(criar_grafo(df_fraudulento, pais))"
   ]
  },
  {
   "cell_type": "code",
   "execution_count": null,
   "metadata": {},
   "outputs": [],
   "source": [
    "# Quantidade de fraudes em cada país com base no grau\n",
    "for grafo in grafos:\n",
    "    print(f\"Grau do grafo {list(grafo.nodes)[0]}: {grafo.degree(list(grafo.nodes())[0])}\")"
   ]
  },
  {
   "cell_type": "code",
   "execution_count": null,
   "metadata": {},
   "outputs": [],
   "source": [
    "# Valor total de fraudes em cada país somando o peso das arestas\n",
    "for grafo in grafos:\n",
    "    peso_total = sum(nx.get_edge_attributes(grafo, 'weight')[edge] for edge in grafo.edges(list(grafo.nodes)[0]))\n",
    "    print(f\"Peso total no(a) {list(grafo.nodes)[0]}: {peso_total:.2f}\")"
   ]
  },
  {
   "cell_type": "code",
   "execution_count": 14,
   "metadata": {},
   "outputs": [],
   "source": [
    "# Criando função auxiliar para desenhar grafo de perfil\n",
    "def criar_grafo_perfil(df, pais):\n",
    "    grafo = nx.Graph()\n",
    "    grafo.add_node(pais)\n",
    "\n",
    "    # Inserindo vértices e arestas\n",
    "    for i in range(len(df)):\n",
    "        if df.iloc[i]['Country'] == pais:\n",
    "\n",
    "            # Local\n",
    "            if df.iloc[i]['Transaction Location'] == 'Urban':\n",
    "                if grafo.has_node('Urban'):\n",
    "                    grafo['Urban'][pais]['weight'] += 1\n",
    "                else:\n",
    "                    grafo.add_node('Urban')\n",
    "                    grafo.add_edge('Urban', pais, weight = 1)\n",
    "\n",
    "            elif df.iloc[i]['Transaction Location'] == 'Urban':\n",
    "                if grafo.has_node('Urban'):\n",
    "                    grafo['Urban'][pais]['weight'] += 1\n",
    "                else:\n",
    "                    grafo.add_node('Urban')\n",
    "                    grafo.add_edge('Urban', pais, weight = 1)\n",
    "\n",
    "            else:\n",
    "                if grafo.has_node('Urban'):\n",
    "                    grafo['Urban'][pais]['weight'] += 1\n",
    "                else:\n",
    "                    grafo.add_node('Urban')\n",
    "                    grafo.add_edge('Urban', pais, weight = 1)           \n",
    "\n",
    "            # Gênero\n",
    "            if df.iloc[i]['User Gender'] == 'Male':\n",
    "                if grafo.has_node('Male'):\n",
    "                    grafo['Male'][pais]['weight'] += 1\n",
    "                else:\n",
    "                    grafo.add_node('Male')\n",
    "                    grafo.add_edge('Male', pais, weight = 1)\n",
    "\n",
    "            elif df.iloc[i]['User Gender'] == 'Female':\n",
    "                if grafo.has_node('Female'):\n",
    "                    grafo['Female'][pais]['weight'] += 1\n",
    "                else:\n",
    "                    grafo.add_node('Female')\n",
    "                    grafo.add_edge('Female', pais, weight = 1)\n",
    "\n",
    "            # Idade\n",
    "            if 18 <= df.iloc[i]['User Age'] < 30:\n",
    "                if grafo.has_node('18/29'):\n",
    "                    grafo['18/29'][pais]['weight'] += 1\n",
    "                else:\n",
    "                    grafo.add_node('18/29')\n",
    "                    grafo.add_edge('18/29', pais, weight = 1)\n",
    "\n",
    "            elif 30 <= df.iloc[i]['User Age'] < 40:\n",
    "                if grafo.has_node('30/39'):\n",
    "                    grafo['30/39'][pais]['weight'] += 1\n",
    "                else:\n",
    "                    grafo.add_node('30/39')\n",
    "                    grafo.add_edge('30/39', pais, weight = 1)\n",
    "\n",
    "            elif 40 <= df.iloc[i]['User Age'] < 50:\n",
    "                if grafo.has_node('40/49'):\n",
    "                    grafo['40/49'][pais]['weight'] += 1\n",
    "                else:\n",
    "                    grafo.add_node('40/49')\n",
    "                    grafo.add_edge('40/49', pais, weight = 1)\n",
    "                    \n",
    "            elif 50 <= df.iloc[i]['User Age'] < 60:\n",
    "                if grafo.has_node('50/59'):\n",
    "                    grafo['50/59'][pais]['weight'] += 1\n",
    "                else:\n",
    "                    grafo.add_node('50/59')\n",
    "                    grafo.add_edge('50/59', pais, weight = 1)\n",
    "\n",
    "            elif 60 <= df.iloc[i]['User Age'] < 70:\n",
    "                if grafo.has_node('60/69'):\n",
    "                    grafo['60/69'][pais]['weight'] += 1\n",
    "                else:\n",
    "                    grafo.add_node('60/69')\n",
    "                    grafo.add_edge('60/69', pais, weight = 1)\n",
    "\n",
    "            else:\n",
    "                if grafo.has_node('70/80'):\n",
    "                    grafo['70/80'][pais]['weight'] += 1\n",
    "                else:\n",
    "                    grafo.add_node('70/80')\n",
    "                    grafo.add_edge('70/80', pais, weight = 1)\n",
    "\n",
    "        \n",
    "\n",
    "    # Retornando grafo\n",
    "    return grafo"
   ]
  },
  {
   "cell_type": "code",
   "execution_count": 47,
   "metadata": {},
   "outputs": [
    {
     "name": "stdout",
     "output_type": "stream",
     "text": [
      "Graph with 10 nodes and 9 edges\n",
      "Graph with 10 nodes and 9 edges\n",
      "Graph with 10 nodes and 9 edges\n"
     ]
    }
   ],
   "source": [
    "# Paises com mais fraudes (em relação a quantidade e valor)\n",
    "paises_mais_fraudados = ['USA', 'Brazil', 'Japan']\n",
    "\n",
    "# Criando grafos de perfil\n",
    "grafos_perfil = []\n",
    "for pais in paises_mais_fraudados:\n",
    "    grafos_perfil += [criar_grafo_perfil(df_fraudulento, pais)]\n",
    "    print(criar_grafo_perfil(df_fraudulento, pais))"
   ]
  },
  {
   "cell_type": "code",
   "execution_count": null,
   "metadata": {},
   "outputs": [],
   "source": [
    "# Visualizando grafos de perfil\n",
    "for pais in paises_mais_fraudados:\n",
    "    grafo_perfil = criar_grafo_perfil(df_fraudulento, pais)\n",
    "    \n",
    "    # Dimensionando figura e ajustando cores\n",
    "    plt.figure(figsize=(8, 4))\n",
    "    cor = []\n",
    "    for node in grafo_perfil.nodes():\n",
    "        if node == pais:\n",
    "            cor.append('orange')\n",
    "        elif node[2] == '/':\n",
    "            cor.append('teal')\n",
    "        elif node == 'Male' or node == 'Female':\n",
    "            cor.append('green')\n",
    "        else:\n",
    "            cor.append('red')\n",
    "\n",
    "    # Criando um dicionário com os pesos das arestas\n",
    "    labels = nx.get_edge_attributes(grafo_perfil, 'weight')\n",
    "\n",
    "    # Dando nome e visualizando grafo\n",
    "    pos = nx.spring_layout(grafo_perfil)  # Calcula a posição dos nós\n",
    "    nx.draw(grafo_perfil, with_labels = True, node_color = cor, edge_color = \"gray\", font_size = 10, node_size = 500, pos = pos)\n",
    "    \n",
    "    # Desenhando os rótulos das arestas no meio\n",
    "    nx.draw_networkx_edge_labels(grafo_perfil, pos=pos, edge_labels=labels, font_size=8)\n",
    "    \n",
    "    plt.title(f\"Profile graph in {pais}\")\n",
    "    plt.show()"
   ]
  }
 ],
 "metadata": {
  "kernelspec": {
   "display_name": "Python 3",
   "language": "python",
   "name": "python3"
  },
  "language_info": {
   "codemirror_mode": {
    "name": "ipython",
    "version": 3
   },
   "file_extension": ".py",
   "mimetype": "text/x-python",
   "name": "python",
   "nbconvert_exporter": "python",
   "pygments_lexer": "ipython3",
   "version": "3.11.9"
  }
 },
 "nbformat": 4,
 "nbformat_minor": 2
}
